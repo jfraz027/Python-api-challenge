{
 "cells": [
  {
   "cell_type": "markdown",
   "metadata": {},
   "source": [
    "# WeatherPy\n",
    "----\n",
    "\n",
    "#### Observations\n",
    "\n",
    "Observation: The % of cloudiness and humidity appear to be more randomly distributed across latitudes compared to Temparature and wind speed which are more closely related along varying latitudes. \n",
    "\n",
    "#Observation: For northen hemisphere as you move further away from the 0 latitaude the temperature decreases. On the other hand, in the southern hempisphere, as you move closer to 0 latitude, the temperature increases.\n",
    "\n",
    "#Observation: "
   ]
  },
  {
   "cell_type": "code",
   "execution_count": 26,
   "metadata": {
    "scrolled": true
   },
   "outputs": [],
   "source": [
    "# Dependencies and Setup\n",
    "import matplotlib.pyplot as plt\n",
    "import pandas as pd\n",
    "import numpy as np\n",
    "import requests\n",
    "import time\n",
    "from scipy.stats import linregress\n",
    "\n",
    "# Import API key\n",
    "from api_keys import weather_api_key\n",
    "temp_units = \"imperial\"\n",
    "\n",
    "# Incorporated citipy to determine city based on latitude and longitude\n",
    "from citipy import citipy\n",
    "\n",
    "# Output File (CSV)\n",
    "#output_data_file = \"output/weather_dataframe.csv\"\n",
    "output_data_file = \"output_data/cities.csv\"\n",
    "\n",
    "# Range of latitudes and longitudes\n",
    "lat_range = (-90, 90)\n",
    "lng_range = (-180, 180)\n"
   ]
  },
  {
   "cell_type": "markdown",
   "metadata": {},
   "source": [
    "## Generate Cities List"
   ]
  },
  {
   "cell_type": "code",
   "execution_count": 2,
   "metadata": {},
   "outputs": [
    {
     "data": {
      "text/plain": [
       "610"
      ]
     },
     "execution_count": 2,
     "metadata": {},
     "output_type": "execute_result"
    }
   ],
   "source": [
    "# List for holding lat_lngs and cities\n",
    "# lat_lngs = []\n",
    "# cities = []\n",
    "\n",
    "# # Create a set of random lat and lng combinations\n",
    "# lats = np.random.uniform(lat_range[0], lat_range[1], size=1500)\n",
    "# lngs = np.random.uniform(lng_range[0], lng_range[1], size=1500)\n",
    "\n",
    "# lat_lngs = zip(lats, lngs)\n",
    "\n",
    "# # Identify nearest city for each lat, lng combination\n",
    "# for lat_lng in lat_lngs:\n",
    "#     city = citipy.nearest_city(lat_lng[0], lat_lng[1]).city_name\n",
    "    \n",
    "# # If the city is unique, then add it to a our cities list\n",
    "#     if city not in cities:\n",
    "#         cities.append(city)\n",
    "\n",
    "# # Print the city count to confirm sufficient count\n",
    "# len(cities)\n",
    "\n",
    "\n"
   ]
  },
  {
   "cell_type": "markdown",
   "metadata": {},
   "source": [
    "### Perform API Calls\n",
    "* Perform a weather check on each city using a series of successive API calls.\n",
    "* Include a print log of each city as it'sbeing processed (with the city number and city name).\n"
   ]
  },
  {
   "cell_type": "code",
   "execution_count": 3,
   "metadata": {},
   "outputs": [
    {
     "name": "stdout",
     "output_type": "stream",
     "text": [
      "Processing Record 1 of Set 1 | cape town\n",
      "Processing Record 2 of Set 1 | bahile\n",
      "Processing Record 3 of Set 1 | mataura\n",
      "Processing Record 4 of Set 1 | busselton\n",
      "Processing Record 5 of Set 1 | kapaa\n",
      "Processing Record 6 of Set 1 | barrow\n",
      "Processing Record 7 of Set 1 | petrozavodsk\n",
      "Processing Record 8 of Set 1 | ipixuna\n",
      "Processing Record 9 of Set 1 | punta arenas\n",
      "Processing Record 10 of Set 1 | trincomalee\n",
      "Processing Record 11 of Set 1 | hilo\n",
      "Processing Record 12 of Set 1 | whitehorse\n",
      "Processing Record 13 of Set 1 | harlingen\n",
      "Processing Record 14 of Set 1 | rikitea\n",
      "Processing Record 15 of Set 1 | arraial do cabo\n",
      "Processing Record 16 of Set 1 | atuona\n",
      "Processing Record 17 of Set 1 | saint-philippe\n",
      "Processing Record 18 of Set 1 | lompoc\n",
      "Processing Record 19 of Set 1 | saldanha\n",
      "Processing Record 20 of Set 1 | bamut\n",
      "Processing Record 21 of Set 1 | micheweni\n",
      "City not found. Skipping...\n",
      "Processing Record 22 of Set 1 | qaanaaq\n",
      "Processing Record 23 of Set 1 | sao felix do xingu\n",
      "Processing Record 24 of Set 1 | chapais\n",
      "City not found. Skipping...\n",
      "Processing Record 25 of Set 1 | bredasdorp\n",
      "Processing Record 26 of Set 1 | east london\n",
      "Processing Record 27 of Set 1 | george town\n",
      "Processing Record 28 of Set 1 | port alfred\n",
      "Processing Record 29 of Set 1 | albany\n",
      "Processing Record 30 of Set 1 | lotofaga\n",
      "Processing Record 31 of Set 1 | hobart\n",
      "City not found. Skipping...\n",
      "City not found. Skipping...\n",
      "Processing Record 32 of Set 1 | eatonton\n",
      "Processing Record 33 of Set 1 | nkhata bay\n",
      "Processing Record 34 of Set 1 | castro\n",
      "Processing Record 35 of Set 1 | jamestown\n",
      "Processing Record 36 of Set 1 | ushuaia\n",
      "Processing Record 37 of Set 1 | catia la mar\n",
      "Processing Record 38 of Set 1 | portland\n",
      "Processing Record 39 of Set 1 | ituporanga\n",
      "Processing Record 40 of Set 1 | mahebourg\n",
      "Processing Record 41 of Set 1 | nouakchott\n",
      "Processing Record 42 of Set 1 | sabha\n",
      "Processing Record 43 of Set 1 | clyde river\n",
      "Processing Record 44 of Set 1 | chokurdakh\n",
      "Processing Record 45 of Set 1 | kavaratti\n",
      "Processing Record 46 of Set 1 | yellowknife\n",
      "Processing Record 47 of Set 1 | galle\n",
      "Processing Record 48 of Set 1 | dikson\n",
      "Processing Record 49 of Set 1 | tasiilaq\n",
      "Processing Record 50 of Set 1 | stornoway\n",
      "Processing Record 51 of Set 1 | san patricio\n",
      "Processing Record 1 of Set 2 | victoria\n",
      "City not found. Skipping...\n",
      "Processing Record 2 of Set 2 | bengkulu\n",
      "Processing Record 3 of Set 2 | orebro\n",
      "Processing Record 4 of Set 2 | puerto ayora\n",
      "Processing Record 5 of Set 2 | manono\n",
      "Processing Record 6 of Set 2 | le port\n",
      "Processing Record 7 of Set 2 | cherskiy\n",
      "Processing Record 8 of Set 2 | mwene-ditu\n",
      "Processing Record 9 of Set 2 | muscatine\n",
      "Processing Record 10 of Set 2 | chalmette\n",
      "City not found. Skipping...\n",
      "Processing Record 11 of Set 2 | bathsheba\n",
      "Processing Record 12 of Set 2 | cockburn town\n",
      "Processing Record 13 of Set 2 | kaitangata\n",
      "Processing Record 14 of Set 2 | vaini\n",
      "Processing Record 15 of Set 2 | khatanga\n",
      "Processing Record 16 of Set 2 | severo-kurilsk\n",
      "Processing Record 17 of Set 2 | pangnirtung\n",
      "Processing Record 18 of Set 2 | bogdanovich\n",
      "Processing Record 19 of Set 2 | nouadhibou\n",
      "Processing Record 20 of Set 2 | shingu\n",
      "Processing Record 21 of Set 2 | moron\n",
      "Processing Record 22 of Set 2 | vilhena\n",
      "Processing Record 23 of Set 2 | ponta do sol\n",
      "Processing Record 24 of Set 2 | lebu\n",
      "Processing Record 25 of Set 2 | staryy nadym\n",
      "Processing Record 26 of Set 2 | meadow lake\n",
      "Processing Record 27 of Set 2 | ancud\n",
      "Processing Record 28 of Set 2 | souillac\n",
      "City not found. Skipping...\n",
      "Processing Record 29 of Set 2 | veraval\n",
      "Processing Record 30 of Set 2 | redmond\n",
      "Processing Record 31 of Set 2 | aneho\n",
      "Processing Record 32 of Set 2 | kabanjahe\n",
      "Processing Record 33 of Set 2 | faanui\n",
      "Processing Record 34 of Set 2 | avarua\n",
      "Processing Record 35 of Set 2 | laguna\n",
      "Processing Record 36 of Set 2 | port blair\n",
      "Processing Record 37 of Set 2 | pisco\n",
      "Processing Record 38 of Set 2 | ejido\n",
      "Processing Record 39 of Set 2 | ferrol\n",
      "Processing Record 40 of Set 2 | sabang\n",
      "Processing Record 41 of Set 2 | tuatapere\n",
      "Processing Record 42 of Set 2 | tuktoyaktuk\n",
      "Processing Record 43 of Set 2 | oyem\n",
      "Processing Record 44 of Set 2 | ardalstangen\n",
      "Processing Record 45 of Set 2 | klaksvik\n",
      "Processing Record 46 of Set 2 | yeppoon\n",
      "Processing Record 47 of Set 2 | samos\n",
      "Processing Record 48 of Set 2 | lorengau\n",
      "Processing Record 49 of Set 2 | bubaque\n",
      "City not found. Skipping...\n",
      "Processing Record 50 of Set 2 | gornopravdinsk\n",
      "Processing Record 51 of Set 2 | upernavik\n",
      "Processing Record 1 of Set 3 | sao filipe\n",
      "City not found. Skipping...\n",
      "Processing Record 2 of Set 3 | buala\n",
      "Processing Record 3 of Set 3 | namatanai\n",
      "Processing Record 4 of Set 3 | cabo san lucas\n",
      "Processing Record 5 of Set 3 | leningradskiy\n",
      "Processing Record 6 of Set 3 | imeni poliny osipenko\n",
      "Processing Record 7 of Set 3 | vao\n",
      "Processing Record 8 of Set 3 | saint george\n",
      "City not found. Skipping...\n",
      "Processing Record 9 of Set 3 | port elizabeth\n",
      "Processing Record 10 of Set 3 | bitung\n",
      "Processing Record 11 of Set 3 | ilulissat\n",
      "Processing Record 12 of Set 3 | general roca\n",
      "Processing Record 13 of Set 3 | aklavik\n",
      "Processing Record 14 of Set 3 | san ramon\n",
      "City not found. Skipping...\n",
      "Processing Record 15 of Set 3 | avera\n",
      "Processing Record 16 of Set 3 | hirara\n",
      "Processing Record 17 of Set 3 | carnarvon\n",
      "Processing Record 18 of Set 3 | tiksi\n",
      "Processing Record 19 of Set 3 | new norfolk\n",
      "Processing Record 20 of Set 3 | faya\n",
      "Processing Record 21 of Set 3 | chililabombwe\n",
      "Processing Record 22 of Set 3 | takoradi\n",
      "Processing Record 23 of Set 3 | ocos\n",
      "Processing Record 24 of Set 3 | mar del plata\n",
      "Processing Record 25 of Set 3 | tadine\n",
      "City not found. Skipping...\n",
      "Processing Record 26 of Set 3 | sorong\n",
      "Processing Record 27 of Set 3 | rio grande\n",
      "Processing Record 28 of Set 3 | baker city\n",
      "Processing Record 29 of Set 3 | sampit\n",
      "Processing Record 30 of Set 3 | pevek\n",
      "Processing Record 31 of Set 3 | saskylakh\n",
      "Processing Record 32 of Set 3 | trairi\n",
      "Processing Record 33 of Set 3 | ndjole\n",
      "Processing Record 34 of Set 3 | bethel\n",
      "Processing Record 35 of Set 3 | teknaf\n",
      "Processing Record 36 of Set 3 | mehamn\n",
      "Processing Record 37 of Set 3 | iqaluit\n",
      "Processing Record 38 of Set 3 | bonthe\n",
      "Processing Record 39 of Set 3 | kapuskasing\n",
      "City not found. Skipping...\n",
      "Processing Record 40 of Set 3 | rio gallegos\n",
      "Processing Record 41 of Set 3 | singapore\n",
      "Processing Record 42 of Set 3 | marshfield\n",
      "Processing Record 43 of Set 3 | hermanus\n",
      "Processing Record 44 of Set 3 | ribeira grande\n",
      "Processing Record 45 of Set 3 | alofi\n",
      "Processing Record 46 of Set 3 | codrington\n",
      "Processing Record 47 of Set 3 | havoysund\n",
      "Processing Record 48 of Set 3 | vila velha\n",
      "Processing Record 49 of Set 3 | vila franca do campo\n",
      "Processing Record 50 of Set 3 | lalmohan\n",
      "Processing Record 51 of Set 3 | lithgow\n",
      "Processing Record 1 of Set 4 | christchurch\n",
      "Processing Record 2 of Set 4 | muleba\n",
      "Processing Record 3 of Set 4 | salvador\n",
      "Processing Record 4 of Set 4 | lavrentiya\n",
      "Processing Record 5 of Set 4 | benjamin constant\n",
      "Processing Record 6 of Set 4 | hithadhoo\n",
      "Processing Record 7 of Set 4 | high level\n",
      "Processing Record 8 of Set 4 | ganzhou\n",
      "Processing Record 9 of Set 4 | harper\n",
      "Processing Record 10 of Set 4 | kahului\n",
      "Processing Record 11 of Set 4 | ketchikan\n",
      "Processing Record 12 of Set 4 | russell\n",
      "Processing Record 13 of Set 4 | srednekolymsk\n",
      "Processing Record 14 of Set 4 | airai\n",
      "Processing Record 15 of Set 4 | gwadar\n",
      "Processing Record 16 of Set 4 | vaxjo\n",
      "City not found. Skipping...\n",
      "Processing Record 17 of Set 4 | kruisfontein\n",
      "Processing Record 18 of Set 4 | lazaro cardenas\n",
      "Processing Record 19 of Set 4 | ingham\n",
      "Processing Record 20 of Set 4 | nanortalik\n",
      "City not found. Skipping...\n",
      "Processing Record 21 of Set 4 | talnakh\n",
      "Processing Record 22 of Set 4 | tarauaca\n",
      "Processing Record 23 of Set 4 | sao lourenco do sul\n",
      "City not found. Skipping...\n",
      "Processing Record 24 of Set 4 | alyangula\n",
      "Processing Record 25 of Set 4 | sarahan\n",
      "Processing Record 26 of Set 4 | sao joao da barra\n",
      "Processing Record 27 of Set 4 | koshki\n",
      "Processing Record 28 of Set 4 | mujiayingzi\n",
      "Processing Record 29 of Set 4 | suzun\n",
      "City not found. Skipping...\n",
      "Processing Record 30 of Set 4 | aberdeen\n",
      "Processing Record 31 of Set 4 | sibolga\n",
      "Processing Record 32 of Set 4 | chuy\n",
      "Processing Record 33 of Set 4 | tharad\n",
      "Processing Record 34 of Set 4 | cidreira\n",
      "Processing Record 35 of Set 4 | port lincoln\n",
      "City not found. Skipping...\n"
     ]
    },
    {
     "name": "stdout",
     "output_type": "stream",
     "text": [
      "Processing Record 36 of Set 4 | mabaruma\n",
      "Processing Record 37 of Set 4 | hambantota\n",
      "Processing Record 38 of Set 4 | lunca muresului\n",
      "Processing Record 39 of Set 4 | tessalit\n",
      "Processing Record 40 of Set 4 | chumphon\n",
      "Processing Record 41 of Set 4 | vostok\n",
      "Processing Record 42 of Set 4 | ternate\n",
      "Processing Record 43 of Set 4 | sovetskiy\n",
      "Processing Record 44 of Set 4 | vrede\n",
      "Processing Record 45 of Set 4 | port-gentil\n",
      "Processing Record 46 of Set 4 | comodoro rivadavia\n",
      "Processing Record 47 of Set 4 | alice springs\n",
      "Processing Record 48 of Set 4 | torbay\n",
      "Processing Record 49 of Set 4 | yulara\n",
      "Processing Record 50 of Set 4 | xiangxiang\n",
      "Processing Record 51 of Set 4 | kavieng\n",
      "Processing Record 1 of Set 5 | half moon bay\n",
      "Processing Record 2 of Set 5 | kodiak\n",
      "Processing Record 3 of Set 5 | felanitx\n",
      "Processing Record 4 of Set 5 | vestmannaeyjar\n",
      "Processing Record 5 of Set 5 | khani\n",
      "Processing Record 6 of Set 5 | tilichiki\n",
      "Processing Record 7 of Set 5 | adrar\n",
      "Processing Record 8 of Set 5 | seymchan\n",
      "City not found. Skipping...\n",
      "Processing Record 9 of Set 5 | richards bay\n",
      "City not found. Skipping...\n",
      "Processing Record 10 of Set 5 | sokolo\n",
      "Processing Record 11 of Set 5 | kushima\n",
      "Processing Record 12 of Set 5 | krasnoselkup\n",
      "Processing Record 13 of Set 5 | guerrero negro\n",
      "Processing Record 14 of Set 5 | olafsvik\n",
      "Processing Record 15 of Set 5 | qasigiannguit\n",
      "Processing Record 16 of Set 5 | bluff\n",
      "Processing Record 17 of Set 5 | kiama\n",
      "Processing Record 18 of Set 5 | abu dhabi\n",
      "Processing Record 19 of Set 5 | touros\n",
      "Processing Record 20 of Set 5 | lingao\n",
      "City not found. Skipping...\n",
      "Processing Record 21 of Set 5 | chicama\n",
      "Processing Record 22 of Set 5 | mercedes\n",
      "Processing Record 23 of Set 5 | havre-saint-pierre\n",
      "Processing Record 24 of Set 5 | kiunga\n",
      "Processing Record 25 of Set 5 | korla\n",
      "Processing Record 26 of Set 5 | esna\n",
      "Processing Record 27 of Set 5 | wajir\n",
      "Processing Record 28 of Set 5 | sitka\n",
      "Processing Record 29 of Set 5 | beloha\n",
      "Processing Record 30 of Set 5 | praia da vitoria\n",
      "Processing Record 31 of Set 5 | paamiut\n",
      "Processing Record 32 of Set 5 | lakes entrance\n",
      "Processing Record 33 of Set 5 | tucuman\n",
      "Processing Record 34 of Set 5 | trabzon\n",
      "City not found. Skipping...\n",
      "Processing Record 35 of Set 5 | hami\n",
      "Processing Record 36 of Set 5 | lagoa\n",
      "Processing Record 37 of Set 5 | camacha\n",
      "Processing Record 38 of Set 5 | dingle\n",
      "Processing Record 39 of Set 5 | backnang\n",
      "Processing Record 40 of Set 5 | deputatskiy\n",
      "City not found. Skipping...\n",
      "Processing Record 41 of Set 5 | katsuura\n",
      "Processing Record 42 of Set 5 | killybegs\n",
      "Processing Record 43 of Set 5 | madimba\n",
      "Processing Record 44 of Set 5 | havelock\n",
      "Processing Record 45 of Set 5 | yelan-kolenovskiy\n",
      "Processing Record 46 of Set 5 | teguise\n",
      "Processing Record 47 of Set 5 | nabire\n",
      "Processing Record 48 of Set 5 | soe\n",
      "Processing Record 49 of Set 5 | puerto lempira\n",
      "Processing Record 50 of Set 5 | butaritari\n",
      "Processing Record 51 of Set 5 | honiara\n",
      "Processing Record 1 of Set 6 | tomatlan\n",
      "Processing Record 2 of Set 6 | salalah\n",
      "Processing Record 3 of Set 6 | ajdabiya\n",
      "Processing Record 4 of Set 6 | rence\n",
      "Processing Record 5 of Set 6 | muros\n",
      "Processing Record 6 of Set 6 | thompson\n",
      "Processing Record 7 of Set 6 | fare\n",
      "Processing Record 8 of Set 6 | georgetown\n",
      "Processing Record 9 of Set 6 | biloela\n",
      "Processing Record 10 of Set 6 | longyearbyen\n",
      "Processing Record 11 of Set 6 | isangel\n",
      "Processing Record 12 of Set 6 | chepareria\n",
      "Processing Record 13 of Set 6 | charters towers\n",
      "City not found. Skipping...\n",
      "Processing Record 14 of Set 6 | tibacuy\n",
      "Processing Record 15 of Set 6 | de-kastri\n",
      "Processing Record 16 of Set 6 | aksu\n",
      "Processing Record 17 of Set 6 | brae\n",
      "Processing Record 18 of Set 6 | karpogory\n",
      "Processing Record 19 of Set 6 | natal\n",
      "Processing Record 20 of Set 6 | foligno\n",
      "Processing Record 21 of Set 6 | kijang\n",
      "Processing Record 22 of Set 6 | itoman\n",
      "Processing Record 23 of Set 6 | biak\n",
      "Processing Record 24 of Set 6 | narsaq\n",
      "Processing Record 25 of Set 6 | tupiza\n",
      "Processing Record 26 of Set 6 | swinoujscie\n",
      "Processing Record 27 of Set 6 | basoko\n",
      "Processing Record 28 of Set 6 | nuuk\n",
      "Processing Record 29 of Set 6 | shieli\n",
      "Processing Record 30 of Set 6 | barcelos\n",
      "Processing Record 31 of Set 6 | fairbanks\n",
      "Processing Record 32 of Set 6 | tateyama\n",
      "Processing Record 33 of Set 6 | le moule\n",
      "Processing Record 34 of Set 6 | ixtapa\n",
      "Processing Record 35 of Set 6 | esperance\n",
      "Processing Record 36 of Set 6 | pekin\n",
      "Processing Record 37 of Set 6 | farafangana\n",
      "Processing Record 38 of Set 6 | arlit\n",
      "Processing Record 39 of Set 6 | borogontsy\n",
      "Processing Record 40 of Set 6 | labuhan\n",
      "Processing Record 41 of Set 6 | campo verde\n",
      "Processing Record 42 of Set 6 | nikolskoye\n",
      "Processing Record 43 of Set 6 | port hedland\n",
      "Processing Record 44 of Set 6 | husavik\n",
      "Processing Record 45 of Set 6 | kieta\n",
      "Processing Record 46 of Set 6 | cadiz\n",
      "Processing Record 47 of Set 6 | bukachacha\n",
      "Processing Record 48 of Set 6 | bourail\n",
      "Processing Record 49 of Set 6 | sayat\n",
      "Processing Record 50 of Set 6 | mount isa\n",
      "Processing Record 51 of Set 6 | turukhansk\n",
      "Processing Record 1 of Set 7 | podgornoye\n",
      "Processing Record 2 of Set 7 | flinders\n",
      "Processing Record 3 of Set 7 | machico\n",
      "Processing Record 4 of Set 7 | irbeyskoye\n",
      "Processing Record 5 of Set 7 | provideniya\n",
      "Processing Record 6 of Set 7 | college\n",
      "Processing Record 7 of Set 7 | uige\n",
      "City not found. Skipping...\n",
      "Processing Record 8 of Set 7 | mount gambier\n",
      "Processing Record 9 of Set 7 | hendrina\n",
      "Processing Record 10 of Set 7 | januaria\n",
      "Processing Record 11 of Set 7 | mayo\n",
      "City not found. Skipping...\n",
      "Processing Record 12 of Set 7 | alikalia\n",
      "Processing Record 13 of Set 7 | kuusamo\n",
      "Processing Record 14 of Set 7 | tautira\n",
      "Processing Record 15 of Set 7 | pustoshka\n",
      "Processing Record 16 of Set 7 | beringovskiy\n",
      "Processing Record 17 of Set 7 | lumby\n",
      "Processing Record 18 of Set 7 | shache\n",
      "Processing Record 19 of Set 7 | mwinilunga\n",
      "Processing Record 20 of Set 7 | martil\n",
      "Processing Record 21 of Set 7 | zhanaozen\n",
      "Processing Record 22 of Set 7 | qandala\n",
      "Processing Record 23 of Set 7 | pasighat\n",
      "Processing Record 24 of Set 7 | grand gaube\n",
      "Processing Record 25 of Set 7 | norman wells\n",
      "Processing Record 26 of Set 7 | kirovskiy\n",
      "Processing Record 27 of Set 7 | panama city\n",
      "Processing Record 28 of Set 7 | mutoko\n",
      "Processing Record 29 of Set 7 | roros\n",
      "Processing Record 30 of Set 7 | yumen\n",
      "Processing Record 31 of Set 7 | samana\n",
      "Processing Record 32 of Set 7 | razole\n",
      "Processing Record 33 of Set 7 | xining\n",
      "Processing Record 34 of Set 7 | stokmarknes\n",
      "Processing Record 35 of Set 7 | nanakuli\n",
      "Processing Record 36 of Set 7 | la palma\n",
      "Processing Record 37 of Set 7 | hualmay\n",
      "Processing Record 38 of Set 7 | asau\n",
      "Processing Record 39 of Set 7 | mecca\n",
      "Processing Record 40 of Set 7 | nome\n",
      "Processing Record 41 of Set 7 | margate\n",
      "Processing Record 42 of Set 7 | luau\n",
      "Processing Record 43 of Set 7 | bambous virieux\n",
      "Processing Record 44 of Set 7 | san juan\n",
      "Processing Record 45 of Set 7 | jyvaskyla\n",
      "Processing Record 46 of Set 7 | geraldton\n",
      "Processing Record 47 of Set 7 | lata\n",
      "Processing Record 48 of Set 7 | maniitsoq\n",
      "Processing Record 49 of Set 7 | saint andrews\n",
      "Processing Record 50 of Set 7 | lixourion\n",
      "Processing Record 51 of Set 7 | celestun\n",
      "Processing Record 1 of Set 8 | bargarh\n",
      "Processing Record 2 of Set 8 | rorvik\n",
      "Processing Record 3 of Set 8 | tupik\n",
      "Processing Record 4 of Set 8 | paciran\n",
      "City not found. Skipping...\n",
      "Processing Record 5 of Set 8 | diveyevo\n",
      "Processing Record 6 of Set 8 | meulaboh\n",
      "Processing Record 7 of Set 8 | pochutla\n",
      "City not found. Skipping...\n",
      "Processing Record 8 of Set 8 | tanout\n",
      "Processing Record 9 of Set 8 | sinnamary\n",
      "Processing Record 10 of Set 8 | maldonado\n",
      "City not found. Skipping...\n",
      "Processing Record 11 of Set 8 | hasaki\n",
      "Processing Record 12 of Set 8 | vahan\n",
      "City not found. Skipping...\n",
      "Processing Record 13 of Set 8 | pacific grove\n",
      "Processing Record 14 of Set 8 | lyngseidet\n",
      "Processing Record 15 of Set 8 | vitim\n",
      "Processing Record 16 of Set 8 | plettenberg bay\n",
      "Processing Record 17 of Set 8 | hamina\n",
      "Processing Record 18 of Set 8 | arrecife\n",
      "Processing Record 19 of Set 8 | lokosovo\n",
      "Processing Record 20 of Set 8 | hamilton\n",
      "City not found. Skipping...\n",
      "Processing Record 21 of Set 8 | agaro\n",
      "Processing Record 22 of Set 8 | pingdu\n",
      "Processing Record 23 of Set 8 | sorland\n"
     ]
    },
    {
     "name": "stdout",
     "output_type": "stream",
     "text": [
      "Processing Record 24 of Set 8 | susangerd\n",
      "Processing Record 25 of Set 8 | nhulunbuy\n",
      "City not found. Skipping...\n",
      "Processing Record 26 of Set 8 | ostrovnoy\n",
      "Processing Record 27 of Set 8 | kasongo\n",
      "Processing Record 28 of Set 8 | ayorou\n",
      "Processing Record 29 of Set 8 | langarud\n",
      "Processing Record 30 of Set 8 | dwarka\n",
      "Processing Record 31 of Set 8 | angoche\n",
      "Processing Record 32 of Set 8 | ahipara\n",
      "Processing Record 33 of Set 8 | yaan\n",
      "Processing Record 34 of Set 8 | maswa\n",
      "Processing Record 35 of Set 8 | kozhva\n",
      "Processing Record 36 of Set 8 | bandarbeyla\n",
      "Processing Record 37 of Set 8 | chinsali\n",
      "City not found. Skipping...\n",
      "Processing Record 38 of Set 8 | valparaiso\n",
      "Processing Record 39 of Set 8 | saint-pierre\n",
      "Processing Record 40 of Set 8 | kemijarvi\n",
      "Processing Record 41 of Set 8 | alugan\n",
      "City not found. Skipping...\n",
      "Processing Record 42 of Set 8 | liwale\n",
      "City not found. Skipping...\n",
      "Processing Record 43 of Set 8 | penzance\n",
      "Processing Record 44 of Set 8 | aron\n",
      "Processing Record 45 of Set 8 | panji\n",
      "Processing Record 46 of Set 8 | waitara\n",
      "Processing Record 47 of Set 8 | aksarka\n",
      "Processing Record 48 of Set 8 | port macquarie\n",
      "Processing Record 49 of Set 8 | sterling\n",
      "Processing Record 50 of Set 8 | ambilobe\n",
      "City not found. Skipping...\n",
      "City not found. Skipping...\n",
      "Processing Record 51 of Set 8 | sola\n",
      "City not found. Skipping...\n",
      "Processing Record 1 of Set 9 | sao joao de pirabas\n",
      "Processing Record 2 of Set 9 | raudeberg\n",
      "Processing Record 3 of Set 9 | nizwa\n",
      "Processing Record 4 of Set 9 | bondo\n",
      "Processing Record 5 of Set 9 | bac lieu\n",
      "Processing Record 6 of Set 9 | namibe\n",
      "City not found. Skipping...\n",
      "Processing Record 7 of Set 9 | marquette\n",
      "Processing Record 8 of Set 9 | westport\n",
      "Processing Record 9 of Set 9 | chimbote\n",
      "City not found. Skipping...\n",
      "Processing Record 10 of Set 9 | vardo\n",
      "Processing Record 11 of Set 9 | beziers\n",
      "Processing Record 12 of Set 9 | gravdal\n",
      "Processing Record 13 of Set 9 | nazarovo\n",
      "Processing Record 14 of Set 9 | ucluelet\n",
      "Processing Record 15 of Set 9 | provost\n",
      "Processing Record 16 of Set 9 | mgandu\n",
      "Processing Record 17 of Set 9 | lasa\n",
      "Processing Record 18 of Set 9 | mortka\n",
      "Processing Record 19 of Set 9 | grindavik\n",
      "Processing Record 20 of Set 9 | kautokeino\n",
      "Processing Record 21 of Set 9 | nampula\n",
      "Processing Record 22 of Set 9 | urumqi\n",
      "Processing Record 23 of Set 9 | leon\n",
      "Processing Record 24 of Set 9 | okhotsk\n",
      "Processing Record 25 of Set 9 | quatre cocos\n",
      "Processing Record 26 of Set 9 | taraz\n",
      "Processing Record 27 of Set 9 | guaca\n",
      "Processing Record 28 of Set 9 | khartoum\n",
      "Processing Record 29 of Set 9 | kawalu\n",
      "Processing Record 30 of Set 9 | bafq\n",
      "City not found. Skipping...\n",
      "Processing Record 31 of Set 9 | phayakkhaphum phisai\n",
      "Processing Record 32 of Set 9 | muhos\n",
      "Processing Record 33 of Set 9 | san rafael\n",
      "City not found. Skipping...\n",
      "Processing Record 34 of Set 9 | erzin\n",
      "Processing Record 35 of Set 9 | conakry\n",
      "Processing Record 36 of Set 9 | kimbe\n",
      "Processing Record 37 of Set 9 | lodwar\n",
      "Processing Record 38 of Set 9 | washington\n",
      "City not found. Skipping...\n",
      "Processing Record 39 of Set 9 | guiratinga\n",
      "Processing Record 40 of Set 9 | barstow\n",
      "Processing Record 41 of Set 9 | datong\n",
      "Processing Record 42 of Set 9 | lebork\n",
      "Processing Record 43 of Set 9 | bowen\n",
      "Processing Record 44 of Set 9 | businga\n",
      "Processing Record 45 of Set 9 | mpika\n",
      "Processing Record 46 of Set 9 | ercis\n",
      "Processing Record 47 of Set 9 | kampene\n",
      "Processing Record 48 of Set 9 | arti\n",
      "Processing Record 49 of Set 9 | imbituba\n",
      "Processing Record 50 of Set 9 | huarmey\n",
      "Processing Record 51 of Set 9 | darhan\n",
      "Processing Record 1 of Set 10 | boa vista\n",
      "Processing Record 2 of Set 10 | padang\n",
      "Processing Record 3 of Set 10 | naze\n",
      "Processing Record 4 of Set 10 | mattru\n",
      "Processing Record 5 of Set 10 | shihezi\n",
      "Processing Record 6 of Set 10 | balaipungut\n",
      "Processing Record 7 of Set 10 | baruun-urt\n",
      "Processing Record 8 of Set 10 | yei\n",
      "Processing Record 9 of Set 10 | iskateley\n",
      "Processing Record 10 of Set 10 | chaozhou\n",
      "Processing Record 11 of Set 10 | benguela\n",
      "Processing Record 12 of Set 10 | verkhnyaya inta\n",
      "Processing Record 13 of Set 10 | sioux lookout\n",
      "Processing Record 14 of Set 10 | mont-dore\n",
      "Processing Record 15 of Set 10 | dunedin\n",
      "Processing Record 16 of Set 10 | dauphin\n",
      "Processing Record 17 of Set 10 | champerico\n",
      "Processing Record 18 of Set 10 | umm kaddadah\n",
      "Processing Record 19 of Set 10 | vila\n",
      "Processing Record 20 of Set 10 | nishihara\n",
      "Processing Record 21 of Set 10 | byron bay\n",
      "Processing Record 22 of Set 10 | moose factory\n",
      "Processing Record 23 of Set 10 | salta\n",
      "Processing Record 24 of Set 10 | grand forks\n",
      "City not found. Skipping...\n",
      "Processing Record 25 of Set 10 | santa lucia\n",
      "Processing Record 26 of Set 10 | fort myers beach\n",
      "City not found. Skipping...\n",
      "Processing Record 27 of Set 10 | north bend\n",
      "Processing Record 28 of Set 10 | kolondieba\n",
      "Processing Record 29 of Set 10 | zyryanka\n",
      "Processing Record 30 of Set 10 | ogaminana\n",
      "Processing Record 31 of Set 10 | ornskoldsvik\n",
      "Processing Record 32 of Set 10 | tarko-sale\n",
      "Processing Record 33 of Set 10 | timbiqui\n",
      "Processing Record 34 of Set 10 | umarkot\n",
      "Processing Record 35 of Set 10 | constitucion\n",
      "Processing Record 36 of Set 10 | khorramshahr\n",
      "Processing Record 37 of Set 10 | russkaya polyana\n",
      "Processing Record 38 of Set 10 | luanshya\n",
      "Processing Record 39 of Set 10 | samarai\n",
      "City not found. Skipping...\n",
      "Processing Record 40 of Set 10 | maragogi\n",
      "Processing Record 41 of Set 10 | bertoua\n",
      "Processing Record 42 of Set 10 | keningau\n",
      "Processing Record 43 of Set 10 | rocha\n",
      "Processing Record 44 of Set 10 | atocha\n",
      "Processing Record 45 of Set 10 | basco\n",
      "Processing Record 46 of Set 10 | mocuba\n",
      "Processing Record 47 of Set 10 | sur\n",
      "Processing Record 48 of Set 10 | matara\n",
      "Processing Record 49 of Set 10 | cururupu\n",
      "Processing Record 50 of Set 10 | fujinomiya\n",
      "Processing Record 51 of Set 10 | stawell\n",
      "Processing Record 1 of Set 11 | luderitz\n",
      "Processing Record 2 of Set 11 | marsh harbour\n",
      "City not found. Skipping...\n",
      "Processing Record 3 of Set 11 | orotukan\n",
      "Processing Record 4 of Set 11 | limoux\n",
      "Processing Record 5 of Set 11 | flin flon\n",
      "City not found. Skipping...\n",
      "City not found. Skipping...\n",
      "Processing Record 6 of Set 11 | champa\n",
      "Processing Record 7 of Set 11 | uyuni\n",
      "Processing Record 8 of Set 11 | kyzyl-suu\n",
      "Processing Record 9 of Set 11 | illapel\n",
      "Processing Record 10 of Set 11 | zhigansk\n",
      "Processing Record 11 of Set 11 | kristiinankaupunki\n",
      "Processing Record 12 of Set 11 | diu\n",
      "Processing Record 13 of Set 11 | oil city\n",
      "Processing Record 14 of Set 11 | ormara\n",
      "Processing Record 15 of Set 11 | rafraf\n",
      "Processing Record 16 of Set 11 | petatlan\n",
      "Processing Record 17 of Set 11 | wisla\n",
      "Processing Record 18 of Set 11 | barra do garcas\n",
      "Processing Record 19 of Set 11 | vredendal\n",
      "Processing Record 20 of Set 11 | sambava\n",
      "Processing Record 21 of Set 11 | labuan\n",
      "Processing Record 22 of Set 11 | challans\n",
      "Processing Record 23 of Set 11 | usilampatti\n",
      "Processing Record 24 of Set 11 | baishishan\n",
      "Processing Record 25 of Set 11 | quelimane\n",
      "Processing Record 26 of Set 11 | bilma\n",
      "Processing Record 27 of Set 11 | lubumbashi\n",
      "Processing Record 28 of Set 11 | saint-augustin\n",
      "City not found. Skipping...\n",
      "Processing Record 29 of Set 11 | yinchuan\n",
      "Processing Record 30 of Set 11 | zhuanghe\n",
      "Processing Record 31 of Set 11 | santa rosa de aguan\n",
      "Processing Record 32 of Set 11 | denpasar\n",
      "Processing Record 33 of Set 11 | banda aceh\n",
      "Processing Record 34 of Set 11 | ashland\n",
      "Processing Record 35 of Set 11 | gavle\n",
      "Processing Record 36 of Set 11 | waddan\n",
      "Processing Record 37 of Set 11 | cairns\n",
      "City not found. Skipping...\n",
      "Processing Record 38 of Set 11 | xihe\n",
      "Processing Record 39 of Set 11 | thinadhoo\n",
      "Processing Record 40 of Set 11 | kachug\n",
      "Processing Record 41 of Set 11 | ust-koksa\n",
      "Processing Record 42 of Set 11 | smithers\n",
      "Processing Record 43 of Set 11 | tura\n",
      "Processing Record 44 of Set 11 | nichinan\n",
      "Processing Record 45 of Set 11 | ypsonas\n",
      "Processing Record 46 of Set 11 | marawi\n",
      "Processing Record 47 of Set 11 | chabahar\n",
      "Processing Record 48 of Set 11 | kljuc\n",
      "Processing Record 49 of Set 11 | jardim\n",
      "------------------------------\n",
      "Data Retrieval Complete\n",
      "-----------------------------\n",
      "\n"
     ]
    }
   ],
   "source": [
    "# Url\n",
    "# base_url = \"http://api.openweathermap.org/data/2.5/weather?\"\n",
    "\n",
    "# city_two = []\n",
    "# cloudinesses = []\n",
    "# dates = []\n",
    "# humidities = []\n",
    "# lats = []\n",
    "# lngs = []\n",
    "# max_temps = []\n",
    "# wind_speeds = []\n",
    "# countries = []\n",
    "\n",
    "# # Set initial count quantities for organization\n",
    "# count_one = 0\n",
    "# set_one = 1\n",
    "\n",
    "# # loops for creating dataframe columns\n",
    "# for city in cities:\n",
    "#     try:\n",
    "        \n",
    "#         query_url = base_url + \"appid=\" + weather_api_key + \"&q=\" + city\n",
    "#         response = requests.get(query_url).json()\n",
    "                \n",
    "#         cloudinesses.append(response['clouds']['all'])\n",
    "#         countries.append(response['sys']['country'])\n",
    "#         dates.append(response['dt'])\n",
    "#         humidities.append(response['main']['humidity'])\n",
    "#         lats.append(response['coord']['lat'])\n",
    "#         lngs.append(response['coord']['lon'])\n",
    "#         max_temps.append(response['main']['temp_max'])\n",
    "#         wind_speeds.append(response['wind']['speed'])\n",
    "#         if count_one > 50:\n",
    "#             count_one = 1\n",
    "#             set_one += 1\n",
    "#             city_two.append(city)\n",
    "           \n",
    "#         else:\n",
    "#             count_one += 1\n",
    "#             city_two.append(city)\n",
    "            \n",
    "#         print(f\"Processing Record {count_one} of Set {set_one} | {city}\")\n",
    "#     except Exception:\n",
    "#         print(\"City not found. Skipping...\")\n",
    "# print(\"------------------------------\\n\"\n",
    "#         f\"Data Retrieval Complete\\n\"\n",
    "#         f\"-----------------------------\\n\")    "
   ]
  },
  {
   "cell_type": "markdown",
   "metadata": {},
   "source": [
    "### Convert Raw Data to DataFrame\n",
    "* Export the city data into a .csv.\n",
    "* Display the DataFrame"
   ]
  },
  {
   "cell_type": "code",
   "execution_count": 4,
   "metadata": {},
   "outputs": [],
   "source": [
    "# weather_dict = {\n",
    "#     \"City\":city_two,\n",
    "#     \"Cloudiness\":cloudinesses,\n",
    "#     \"Country\":countries,\n",
    "#     \"Date\":dates,\n",
    "#     \"Humidity\":humidities,\n",
    "#     \"Lat\":lats,\n",
    "#     \"Lng\":lngs,\n",
    "#     \"Max Temp\":max_temps,\n",
    "#     \"Wind Speed\":wind_speeds\n",
    "# }"
   ]
  },
  {
   "cell_type": "code",
   "execution_count": 5,
   "metadata": {
    "scrolled": true
   },
   "outputs": [],
   "source": [
    "# establish dataframe\n",
    "#weather_dataframe = pd.DataFrame(weather_dict)"
   ]
  },
  {
   "cell_type": "code",
   "execution_count": 6,
   "metadata": {},
   "outputs": [
    {
     "data": {
      "text/html": [
       "<div>\n",
       "<style scoped>\n",
       "    .dataframe tbody tr th:only-of-type {\n",
       "        vertical-align: middle;\n",
       "    }\n",
       "\n",
       "    .dataframe tbody tr th {\n",
       "        vertical-align: top;\n",
       "    }\n",
       "\n",
       "    .dataframe thead th {\n",
       "        text-align: right;\n",
       "    }\n",
       "</style>\n",
       "<table border=\"1\" class=\"dataframe\">\n",
       "  <thead>\n",
       "    <tr style=\"text-align: right;\">\n",
       "      <th></th>\n",
       "      <th>City</th>\n",
       "      <th>Cloudiness</th>\n",
       "      <th>Country</th>\n",
       "      <th>Date</th>\n",
       "      <th>Humidity</th>\n",
       "      <th>Lat</th>\n",
       "      <th>Lng</th>\n",
       "      <th>Max Temp</th>\n",
       "      <th>Wind Speed</th>\n",
       "    </tr>\n",
       "  </thead>\n",
       "  <tbody>\n",
       "    <tr>\n",
       "      <th>0</th>\n",
       "      <td>cape town</td>\n",
       "      <td>0</td>\n",
       "      <td>ZA</td>\n",
       "      <td>1650897426</td>\n",
       "      <td>57</td>\n",
       "      <td>-33.9258</td>\n",
       "      <td>18.4232</td>\n",
       "      <td>292.19</td>\n",
       "      <td>9.26</td>\n",
       "    </tr>\n",
       "    <tr>\n",
       "      <th>1</th>\n",
       "      <td>bahile</td>\n",
       "      <td>71</td>\n",
       "      <td>PH</td>\n",
       "      <td>1650897735</td>\n",
       "      <td>89</td>\n",
       "      <td>9.9995</td>\n",
       "      <td>118.7878</td>\n",
       "      <td>299.31</td>\n",
       "      <td>1.40</td>\n",
       "    </tr>\n",
       "    <tr>\n",
       "      <th>2</th>\n",
       "      <td>mataura</td>\n",
       "      <td>9</td>\n",
       "      <td>NZ</td>\n",
       "      <td>1650897430</td>\n",
       "      <td>92</td>\n",
       "      <td>-46.1927</td>\n",
       "      <td>168.8643</td>\n",
       "      <td>282.86</td>\n",
       "      <td>2.14</td>\n",
       "    </tr>\n",
       "    <tr>\n",
       "      <th>3</th>\n",
       "      <td>busselton</td>\n",
       "      <td>100</td>\n",
       "      <td>AU</td>\n",
       "      <td>1650897458</td>\n",
       "      <td>90</td>\n",
       "      <td>-33.6500</td>\n",
       "      <td>115.3333</td>\n",
       "      <td>290.00</td>\n",
       "      <td>8.15</td>\n",
       "    </tr>\n",
       "    <tr>\n",
       "      <th>4</th>\n",
       "      <td>kapaa</td>\n",
       "      <td>75</td>\n",
       "      <td>US</td>\n",
       "      <td>1650897459</td>\n",
       "      <td>84</td>\n",
       "      <td>22.0752</td>\n",
       "      <td>-159.3190</td>\n",
       "      <td>295.99</td>\n",
       "      <td>6.17</td>\n",
       "    </tr>\n",
       "  </tbody>\n",
       "</table>\n",
       "</div>"
      ],
      "text/plain": [
       "        City  Cloudiness Country        Date  Humidity      Lat       Lng  \\\n",
       "0  cape town           0      ZA  1650897426        57 -33.9258   18.4232   \n",
       "1     bahile          71      PH  1650897735        89   9.9995  118.7878   \n",
       "2    mataura           9      NZ  1650897430        92 -46.1927  168.8643   \n",
       "3  busselton         100      AU  1650897458        90 -33.6500  115.3333   \n",
       "4      kapaa          75      US  1650897459        84  22.0752 -159.3190   \n",
       "\n",
       "   Max Temp  Wind Speed  \n",
       "0    292.19        9.26  \n",
       "1    299.31        1.40  \n",
       "2    282.86        2.14  \n",
       "3    290.00        8.15  \n",
       "4    295.99        6.17  "
      ]
     },
     "execution_count": 6,
     "metadata": {},
     "output_type": "execute_result"
    }
   ],
   "source": [
    "# show the top of the dataframe\n",
    "#weather_dataframe.head()"
   ]
  },
  {
   "cell_type": "code",
   "execution_count": 7,
   "metadata": {},
   "outputs": [
    {
     "data": {
      "text/plain": [
       "City          559\n",
       "Cloudiness    559\n",
       "Country       559\n",
       "Date          559\n",
       "Humidity      559\n",
       "Lat           559\n",
       "Lng           559\n",
       "Max Temp      559\n",
       "Wind Speed    559\n",
       "dtype: int64"
      ]
     },
     "execution_count": 7,
     "metadata": {},
     "output_type": "execute_result"
    }
   ],
   "source": [
    "#weather_dataframe.count()"
   ]
  },
  {
   "cell_type": "code",
   "execution_count": 8,
   "metadata": {},
   "outputs": [],
   "source": [
    "# output data to csv\n",
    "#weather_dataframe.to_csv(\"weather_df.csv\")"
   ]
  },
  {
   "cell_type": "code",
   "execution_count": 28,
   "metadata": {},
   "outputs": [
    {
     "data": {
      "text/html": [
       "<div>\n",
       "<style scoped>\n",
       "    .dataframe tbody tr th:only-of-type {\n",
       "        vertical-align: middle;\n",
       "    }\n",
       "\n",
       "    .dataframe tbody tr th {\n",
       "        vertical-align: top;\n",
       "    }\n",
       "\n",
       "    .dataframe thead th {\n",
       "        text-align: right;\n",
       "    }\n",
       "</style>\n",
       "<table border=\"1\" class=\"dataframe\">\n",
       "  <thead>\n",
       "    <tr style=\"text-align: right;\">\n",
       "      <th></th>\n",
       "      <th>City</th>\n",
       "      <th>Cloudiness</th>\n",
       "      <th>Country</th>\n",
       "      <th>Date</th>\n",
       "      <th>Humidity</th>\n",
       "      <th>Lat</th>\n",
       "      <th>Lng</th>\n",
       "      <th>Max Temp</th>\n",
       "      <th>Wind Speed</th>\n",
       "    </tr>\n",
       "  </thead>\n",
       "  <tbody>\n",
       "    <tr>\n",
       "      <th>0</th>\n",
       "      <td>cape town</td>\n",
       "      <td>0</td>\n",
       "      <td>ZA</td>\n",
       "      <td>1650897426</td>\n",
       "      <td>57</td>\n",
       "      <td>-33.9258</td>\n",
       "      <td>18.4232</td>\n",
       "      <td>292.19</td>\n",
       "      <td>9.26</td>\n",
       "    </tr>\n",
       "    <tr>\n",
       "      <th>1</th>\n",
       "      <td>bahile</td>\n",
       "      <td>71</td>\n",
       "      <td>PH</td>\n",
       "      <td>1650897735</td>\n",
       "      <td>89</td>\n",
       "      <td>9.9995</td>\n",
       "      <td>118.7878</td>\n",
       "      <td>299.31</td>\n",
       "      <td>1.40</td>\n",
       "    </tr>\n",
       "    <tr>\n",
       "      <th>2</th>\n",
       "      <td>mataura</td>\n",
       "      <td>9</td>\n",
       "      <td>NZ</td>\n",
       "      <td>1650897430</td>\n",
       "      <td>92</td>\n",
       "      <td>-46.1927</td>\n",
       "      <td>168.8643</td>\n",
       "      <td>282.86</td>\n",
       "      <td>2.14</td>\n",
       "    </tr>\n",
       "    <tr>\n",
       "      <th>3</th>\n",
       "      <td>busselton</td>\n",
       "      <td>100</td>\n",
       "      <td>AU</td>\n",
       "      <td>1650897458</td>\n",
       "      <td>90</td>\n",
       "      <td>-33.6500</td>\n",
       "      <td>115.3333</td>\n",
       "      <td>290.00</td>\n",
       "      <td>8.15</td>\n",
       "    </tr>\n",
       "    <tr>\n",
       "      <th>4</th>\n",
       "      <td>kapaa</td>\n",
       "      <td>75</td>\n",
       "      <td>US</td>\n",
       "      <td>1650897459</td>\n",
       "      <td>84</td>\n",
       "      <td>22.0752</td>\n",
       "      <td>-159.3190</td>\n",
       "      <td>295.99</td>\n",
       "      <td>6.17</td>\n",
       "    </tr>\n",
       "  </tbody>\n",
       "</table>\n",
       "</div>"
      ],
      "text/plain": [
       "        City  Cloudiness Country        Date  Humidity      Lat       Lng  \\\n",
       "0  cape town           0      ZA  1650897426        57 -33.9258   18.4232   \n",
       "1     bahile          71      PH  1650897735        89   9.9995  118.7878   \n",
       "2    mataura           9      NZ  1650897430        92 -46.1927  168.8643   \n",
       "3  busselton         100      AU  1650897458        90 -33.6500  115.3333   \n",
       "4      kapaa          75      US  1650897459        84  22.0752 -159.3190   \n",
       "\n",
       "   Max Temp  Wind Speed  \n",
       "0    292.19        9.26  \n",
       "1    299.31        1.40  \n",
       "2    282.86        2.14  \n",
       "3    290.00        8.15  \n",
       "4    295.99        6.17  "
      ]
     },
     "execution_count": 28,
     "metadata": {},
     "output_type": "execute_result"
    }
   ],
   "source": [
    "weather = pd.read_csv(\"weather_df.csv\")\n",
    "weather_dataframe = pd.DataFrame(weather)\n",
    "del weather_dataframe[\"Unnamed: 0\"]\n",
    "weather_dataframe.head()"
   ]
  },
  {
   "cell_type": "code",
   "execution_count": 30,
   "metadata": {},
   "outputs": [
    {
     "data": {
      "text/html": [
       "<div>\n",
       "<style scoped>\n",
       "    .dataframe tbody tr th:only-of-type {\n",
       "        vertical-align: middle;\n",
       "    }\n",
       "\n",
       "    .dataframe tbody tr th {\n",
       "        vertical-align: top;\n",
       "    }\n",
       "\n",
       "    .dataframe thead th {\n",
       "        text-align: right;\n",
       "    }\n",
       "</style>\n",
       "<table border=\"1\" class=\"dataframe\">\n",
       "  <thead>\n",
       "    <tr style=\"text-align: right;\">\n",
       "      <th></th>\n",
       "      <th>Cloudiness</th>\n",
       "      <th>Date</th>\n",
       "      <th>Humidity</th>\n",
       "      <th>Lat</th>\n",
       "      <th>Lng</th>\n",
       "      <th>Max Temp</th>\n",
       "      <th>Wind Speed</th>\n",
       "    </tr>\n",
       "  </thead>\n",
       "  <tbody>\n",
       "    <tr>\n",
       "      <th>count</th>\n",
       "      <td>559.000000</td>\n",
       "      <td>5.590000e+02</td>\n",
       "      <td>559.000000</td>\n",
       "      <td>559.000000</td>\n",
       "      <td>559.000000</td>\n",
       "      <td>559.000000</td>\n",
       "      <td>559.000000</td>\n",
       "    </tr>\n",
       "    <tr>\n",
       "      <th>mean</th>\n",
       "      <td>59.651163</td>\n",
       "      <td>1.650898e+09</td>\n",
       "      <td>70.436494</td>\n",
       "      <td>19.183314</td>\n",
       "      <td>20.316822</td>\n",
       "      <td>290.570376</td>\n",
       "      <td>3.618676</td>\n",
       "    </tr>\n",
       "    <tr>\n",
       "      <th>std</th>\n",
       "      <td>39.150820</td>\n",
       "      <td>1.695490e+02</td>\n",
       "      <td>22.223510</td>\n",
       "      <td>33.409406</td>\n",
       "      <td>88.660792</td>\n",
       "      <td>12.340590</td>\n",
       "      <td>2.390836</td>\n",
       "    </tr>\n",
       "    <tr>\n",
       "      <th>min</th>\n",
       "      <td>0.000000</td>\n",
       "      <td>1.650897e+09</td>\n",
       "      <td>5.000000</td>\n",
       "      <td>-54.800000</td>\n",
       "      <td>-175.200000</td>\n",
       "      <td>251.580000</td>\n",
       "      <td>0.000000</td>\n",
       "    </tr>\n",
       "    <tr>\n",
       "      <th>25%</th>\n",
       "      <td>20.000000</td>\n",
       "      <td>1.650898e+09</td>\n",
       "      <td>61.000000</td>\n",
       "      <td>-8.788300</td>\n",
       "      <td>-55.527400</td>\n",
       "      <td>283.515000</td>\n",
       "      <td>1.770000</td>\n",
       "    </tr>\n",
       "    <tr>\n",
       "      <th>50%</th>\n",
       "      <td>75.000000</td>\n",
       "      <td>1.650898e+09</td>\n",
       "      <td>74.000000</td>\n",
       "      <td>21.333300</td>\n",
       "      <td>25.720900</td>\n",
       "      <td>294.020000</td>\n",
       "      <td>3.080000</td>\n",
       "    </tr>\n",
       "    <tr>\n",
       "      <th>75%</th>\n",
       "      <td>100.000000</td>\n",
       "      <td>1.650898e+09</td>\n",
       "      <td>88.000000</td>\n",
       "      <td>46.648600</td>\n",
       "      <td>95.327750</td>\n",
       "      <td>299.400000</td>\n",
       "      <td>5.135000</td>\n",
       "    </tr>\n",
       "    <tr>\n",
       "      <th>max</th>\n",
       "      <td>100.000000</td>\n",
       "      <td>1.650898e+09</td>\n",
       "      <td>100.000000</td>\n",
       "      <td>78.218600</td>\n",
       "      <td>179.316700</td>\n",
       "      <td>315.440000</td>\n",
       "      <td>12.320000</td>\n",
       "    </tr>\n",
       "  </tbody>\n",
       "</table>\n",
       "</div>"
      ],
      "text/plain": [
       "       Cloudiness          Date    Humidity         Lat         Lng  \\\n",
       "count  559.000000  5.590000e+02  559.000000  559.000000  559.000000   \n",
       "mean    59.651163  1.650898e+09   70.436494   19.183314   20.316822   \n",
       "std     39.150820  1.695490e+02   22.223510   33.409406   88.660792   \n",
       "min      0.000000  1.650897e+09    5.000000  -54.800000 -175.200000   \n",
       "25%     20.000000  1.650898e+09   61.000000   -8.788300  -55.527400   \n",
       "50%     75.000000  1.650898e+09   74.000000   21.333300   25.720900   \n",
       "75%    100.000000  1.650898e+09   88.000000   46.648600   95.327750   \n",
       "max    100.000000  1.650898e+09  100.000000   78.218600  179.316700   \n",
       "\n",
       "         Max Temp  Wind Speed  \n",
       "count  559.000000  559.000000  \n",
       "mean   290.570376    3.618676  \n",
       "std     12.340590    2.390836  \n",
       "min    251.580000    0.000000  \n",
       "25%    283.515000    1.770000  \n",
       "50%    294.020000    3.080000  \n",
       "75%    299.400000    5.135000  \n",
       "max    315.440000   12.320000  "
      ]
     },
     "execution_count": 30,
     "metadata": {},
     "output_type": "execute_result"
    }
   ],
   "source": [
    "weather_dataframe.describe()"
   ]
  },
  {
   "cell_type": "markdown",
   "metadata": {},
   "source": [
    "## Inspect the data and remove the cities where the humidity > 100%.\n",
    "----\n",
    "Skip this step if there are no cities that have humidity > 100%. "
   ]
  },
  {
   "cell_type": "code",
   "execution_count": 31,
   "metadata": {},
   "outputs": [
    {
     "data": {
      "text/plain": [
       "Int64Index([], dtype='int64')"
      ]
     },
     "execution_count": 31,
     "metadata": {},
     "output_type": "execute_result"
    }
   ],
   "source": [
    "city_humidity = weather_dataframe[(weather_dataframe[\"Humidity\"]> 100)].index\n",
    "city_humidity"
   ]
  },
  {
   "cell_type": "code",
   "execution_count": 9,
   "metadata": {},
   "outputs": [
    {
     "data": {
      "text/html": [
       "<div>\n",
       "<style scoped>\n",
       "    .dataframe tbody tr th:only-of-type {\n",
       "        vertical-align: middle;\n",
       "    }\n",
       "\n",
       "    .dataframe tbody tr th {\n",
       "        vertical-align: top;\n",
       "    }\n",
       "\n",
       "    .dataframe thead th {\n",
       "        text-align: right;\n",
       "    }\n",
       "</style>\n",
       "<table border=\"1\" class=\"dataframe\">\n",
       "  <thead>\n",
       "    <tr style=\"text-align: right;\">\n",
       "      <th></th>\n",
       "      <th>City</th>\n",
       "      <th>Cloudiness</th>\n",
       "      <th>Country</th>\n",
       "      <th>Date</th>\n",
       "      <th>Humidity</th>\n",
       "      <th>Lat</th>\n",
       "      <th>Lng</th>\n",
       "      <th>Max Temp</th>\n",
       "      <th>Wind Speed</th>\n",
       "    </tr>\n",
       "  </thead>\n",
       "  <tbody>\n",
       "    <tr>\n",
       "      <th>0</th>\n",
       "      <td>cape town</td>\n",
       "      <td>0</td>\n",
       "      <td>ZA</td>\n",
       "      <td>1650897426</td>\n",
       "      <td>57</td>\n",
       "      <td>-33.9258</td>\n",
       "      <td>18.4232</td>\n",
       "      <td>292.19</td>\n",
       "      <td>9.26</td>\n",
       "    </tr>\n",
       "    <tr>\n",
       "      <th>1</th>\n",
       "      <td>bahile</td>\n",
       "      <td>71</td>\n",
       "      <td>PH</td>\n",
       "      <td>1650897735</td>\n",
       "      <td>89</td>\n",
       "      <td>9.9995</td>\n",
       "      <td>118.7878</td>\n",
       "      <td>299.31</td>\n",
       "      <td>1.40</td>\n",
       "    </tr>\n",
       "    <tr>\n",
       "      <th>2</th>\n",
       "      <td>mataura</td>\n",
       "      <td>9</td>\n",
       "      <td>NZ</td>\n",
       "      <td>1650897430</td>\n",
       "      <td>92</td>\n",
       "      <td>-46.1927</td>\n",
       "      <td>168.8643</td>\n",
       "      <td>282.86</td>\n",
       "      <td>2.14</td>\n",
       "    </tr>\n",
       "    <tr>\n",
       "      <th>3</th>\n",
       "      <td>busselton</td>\n",
       "      <td>100</td>\n",
       "      <td>AU</td>\n",
       "      <td>1650897458</td>\n",
       "      <td>90</td>\n",
       "      <td>-33.6500</td>\n",
       "      <td>115.3333</td>\n",
       "      <td>290.00</td>\n",
       "      <td>8.15</td>\n",
       "    </tr>\n",
       "    <tr>\n",
       "      <th>4</th>\n",
       "      <td>kapaa</td>\n",
       "      <td>75</td>\n",
       "      <td>US</td>\n",
       "      <td>1650897459</td>\n",
       "      <td>84</td>\n",
       "      <td>22.0752</td>\n",
       "      <td>-159.3190</td>\n",
       "      <td>295.99</td>\n",
       "      <td>6.17</td>\n",
       "    </tr>\n",
       "  </tbody>\n",
       "</table>\n",
       "</div>"
      ],
      "text/plain": [
       "        City  Cloudiness Country        Date  Humidity      Lat       Lng  \\\n",
       "0  cape town           0      ZA  1650897426        57 -33.9258   18.4232   \n",
       "1     bahile          71      PH  1650897735        89   9.9995  118.7878   \n",
       "2    mataura           9      NZ  1650897430        92 -46.1927  168.8643   \n",
       "3  busselton         100      AU  1650897458        90 -33.6500  115.3333   \n",
       "4      kapaa          75      US  1650897459        84  22.0752 -159.3190   \n",
       "\n",
       "   Max Temp  Wind Speed  \n",
       "0    292.19        9.26  \n",
       "1    299.31        1.40  \n",
       "2    282.86        2.14  \n",
       "3    290.00        8.15  \n",
       "4    295.99        6.17  "
      ]
     },
     "execution_count": 9,
     "metadata": {},
     "output_type": "execute_result"
    }
   ],
   "source": [
    "city_humidity = weather_dataframe.groupby([\"Humidity\"]).head()\n",
    "city_humidity.head(5)"
   ]
  },
  {
   "cell_type": "code",
   "execution_count": 10,
   "metadata": {},
   "outputs": [
    {
     "data": {
      "text/html": [
       "<div>\n",
       "<style scoped>\n",
       "    .dataframe tbody tr th:only-of-type {\n",
       "        vertical-align: middle;\n",
       "    }\n",
       "\n",
       "    .dataframe tbody tr th {\n",
       "        vertical-align: top;\n",
       "    }\n",
       "\n",
       "    .dataframe thead th {\n",
       "        text-align: right;\n",
       "    }\n",
       "</style>\n",
       "<table border=\"1\" class=\"dataframe\">\n",
       "  <thead>\n",
       "    <tr style=\"text-align: right;\">\n",
       "      <th></th>\n",
       "      <th>City</th>\n",
       "      <th>Cloudiness</th>\n",
       "      <th>Country</th>\n",
       "      <th>Date</th>\n",
       "      <th>Humidity</th>\n",
       "      <th>Lat</th>\n",
       "      <th>Lng</th>\n",
       "      <th>Max Temp</th>\n",
       "      <th>Wind Speed</th>\n",
       "    </tr>\n",
       "  </thead>\n",
       "  <tbody>\n",
       "  </tbody>\n",
       "</table>\n",
       "</div>"
      ],
      "text/plain": [
       "Empty DataFrame\n",
       "Columns: [City, Cloudiness, Country, Date, Humidity, Lat, Lng, Max Temp, Wind Speed]\n",
       "Index: []"
      ]
     },
     "execution_count": 10,
     "metadata": {},
     "output_type": "execute_result"
    }
   ],
   "source": [
    "#  Get the indices of cities that have humidity over 100%.\n",
    "above_humidity = pd.DataFrame(city_humidity.loc[city_humidity['Humidity']>100,:])\n",
    "above_humidity.head(5)"
   ]
  },
  {
   "cell_type": "code",
   "execution_count": 11,
   "metadata": {},
   "outputs": [],
   "source": [
    "# Make a new DataFrame equal to the city data to drop all humidity outliers by index.\n",
    "# Passing \"inplace=False\" will make a copy of the city_data DataFrame, which we call \"clean_city_data\".\n"
   ]
  },
  {
   "cell_type": "markdown",
   "metadata": {},
   "source": [
    "## Plotting the Data\n",
    "* Use proper labeling of the plots using plot titles (including date of analysis) and axes labels.\n",
    "* Save the plotted figures as .pngs."
   ]
  },
  {
   "cell_type": "markdown",
   "metadata": {},
   "source": [
    "## Latitude vs. Temperature Plot"
   ]
  },
  {
   "cell_type": "code",
   "execution_count": 12,
   "metadata": {},
   "outputs": [
    {
     "data": {
      "image/png": "[encoded data removed]",
      "text/plain": [
       "<Figure size 432x288 with 1 Axes>"
      ]
     },
     "metadata": {
      "needs_background": "light"
     },
     "output_type": "display_data"
    },
    {
     "name": "stdout",
     "output_type": "stream",
     "text": [
      "Temperatures appear to drop with increasing latitudes.\n"
     ]
    }
   ],
   "source": [
    "plt.scatter(weather_dataframe[\"Lat\"],weather_dataframe[\"Max Temp\"],edgecolors=\"black\",facecolors=\"red\")\n",
    "plt.title(\"City Latitude vs. Max Temperature (4/24/22)\")\n",
    "plt.xlabel(\"Latitude\")\n",
    "plt.ylabel(\"Max Temperature (F)\")\n",
    "plt.grid (b=True,which=\"major\",axis=\"both\",linestyle=\"-\",color=\"black\")\n",
    "plt.savefig(\"output_data/fig1.png\")\n",
    "plt.show()\n",
    "print(\"Temperatures appear to drop with increasing latitudes.\")"
   ]
  },
  {
   "cell_type": "markdown",
   "metadata": {},
   "source": [
    "## Latitude vs. Humidity Plot"
   ]
  },
  {
   "cell_type": "code",
   "execution_count": 13,
   "metadata": {},
   "outputs": [
    {
     "data": {
      "image/png": "[encoded data removed]",
      "text/plain": [
       "<Figure size 432x288 with 1 Axes>"
      ]
     },
     "metadata": {
      "needs_background": "light"
     },
     "output_type": "display_data"
    },
    {
     "name": "stdout",
     "output_type": "stream",
     "text": [
      "Humidity inreases at higher latitudes.\n"
     ]
    }
   ],
   "source": [
    "plt.scatter(weather_dataframe[\"Lat\"],weather_dataframe[\"Humidity\"],edgecolors=\"black\",facecolors=\"purple\")\n",
    "plt.title(\"City Latitude vs. Humidity (4/24/22)\")\n",
    "plt.xlabel(\"Latitude\")\n",
    "plt.ylabel(\"Humidity (%)\")\n",
    "plt.ylim(15,105)\n",
    "plt.grid (b=True,which=\"major\",axis=\"both\",linestyle=\"-\",color=\"black\")\n",
    "plt.savefig(\"output_data/fig2.png\")\n",
    "plt.show()\n",
    "print(\"Humidity inreases at higher latitudes.\")"
   ]
  },
  {
   "cell_type": "markdown",
   "metadata": {},
   "source": [
    "## Latitude vs. Cloudiness Plot"
   ]
  },
  {
   "cell_type": "code",
   "execution_count": 14,
   "metadata": {},
   "outputs": [
    {
     "data": {
      "image/png": "[encoded data removed]",
      "text/plain": [
       "<Figure size 432x288 with 1 Axes>"
      ]
     },
     "metadata": {
      "needs_background": "light"
     },
     "output_type": "display_data"
    },
    {
     "name": "stdout",
     "output_type": "stream",
     "text": [
      "Cloudiness appears widely distributed across the varying latitudes.\n"
     ]
    }
   ],
   "source": [
    "plt.scatter(weather_dataframe[\"Lat\"],weather_dataframe[\"Cloudiness\"],edgecolors=\"black\",facecolors=\"green\")\n",
    "plt.title(\"City Latitude vs. Cloudiness (4/24/22)\")\n",
    "plt.xlabel(\"Latitude\")\n",
    "plt.ylabel(\"Cloudiness\")\n",
    "plt.grid (b=True,which=\"major\",axis=\"both\",linestyle=\"-\",color=\"black\")\n",
    "plt.savefig(\"output_data/fig3.png\")\n",
    "plt.show()\n",
    "print(\"Cloudiness appears widely distributed across the varying latitudes.\")"
   ]
  },
  {
   "cell_type": "markdown",
   "metadata": {},
   "source": [
    "## Latitude vs. Wind Speed Plot"
   ]
  },
  {
   "cell_type": "code",
   "execution_count": 15,
   "metadata": {},
   "outputs": [
    {
     "data": {
      "image/png": "[encoded data removed]",
      "text/plain": [
       "<Figure size 432x288 with 1 Axes>"
      ]
     },
     "metadata": {
      "needs_background": "light"
     },
     "output_type": "display_data"
    },
    {
     "name": "stdout",
     "output_type": "stream",
     "text": [
      "Wind speeds are widely ditributed at varying latitudes.\n"
     ]
    }
   ],
   "source": [
    "plt.scatter(weather_dataframe[\"Lat\"],weather_dataframe[\"Wind Speed\"],edgecolors=\"black\",facecolors=\"blue\")\n",
    "plt.title(\"City Latitude vs. Wind Speed (4/24/22)\")\n",
    "plt.xlabel(\"Latitude\")\n",
    "plt.ylabel(\"Wind Speed (mph)\")\n",
    "plt.ylim(-2,34)\n",
    "plt.grid (b=True,which=\"major\",axis=\"both\",linestyle=\"-\",color=\"black\")\n",
    "plt.savefig(\"output_data/fig4.png\")\n",
    "plt.show()\n",
    "print(\"Wind speeds are widely ditributed at varying latitudes.\")"
   ]
  },
  {
   "cell_type": "markdown",
   "metadata": {},
   "source": [
    "## Linear Regression"
   ]
  },
  {
   "cell_type": "code",
   "execution_count": 16,
   "metadata": {},
   "outputs": [],
   "source": [
    "northern_hemisphere = weather_dataframe.loc[pd.to_numeric(weather_dataframe[\"Lat\"]).astype(float) > 0, :]\n",
    "southern_hemisphere = weather_dataframe.loc[pd.to_numeric(weather_dataframe[\"Lat\"]).astype(float) < 0, :]"
   ]
  },
  {
   "cell_type": "markdown",
   "metadata": {},
   "source": [
    "####  Northern Hemisphere - Max Temp vs. Latitude Linear Regression"
   ]
  },
  {
   "cell_type": "code",
   "execution_count": 34,
   "metadata": {},
   "outputs": [
    {
     "name": "stdout",
     "output_type": "stream",
     "text": [
      "y = -0.57x + 310.17\n",
      "The r-squared is: -0.8540101897335738\n"
     ]
    },
    {
     "data": {
      "image/png": "[encoded data removed]",
      "text/plain": [
       "<Figure size 432x288 with 1 Axes>"
      ]
     },
     "metadata": {
      "needs_background": "light"
     },
     "output_type": "display_data"
    }
   ],
   "source": [
    "x_values = pd.to_numeric(northern_hemisphere['Lat']).astype(float)\n",
    "y_values = pd.to_numeric(northern_hemisphere['Max Temp']).astype(float)\n",
    "(slope, intercept, rvalue, pvalue, stderr) = linregress(x_values, y_values)\n",
    "regress_values = x_values * slope + intercept\n",
    "\n",
    "# Create line equation string\n",
    "line_eq = \"y = \" + str(round(slope,2)) + \"x + \" + str(round(intercept,2))\n",
    "print(f\"{line_eq}\")\n",
    "\n",
    "# Create Plot\n",
    "plt.scatter(x_values,y_values)\n",
    "plt.plot(x_values,regress_values,\"r-\")\n",
    "\n",
    "# Label plot and annotate the line equation\n",
    "plt.xlabel('Latitude')\n",
    "plt.ylabel('Max Temp')\n",
    "plt.annotate(line_eq,(5,255),fontsize=14,color=\"red\")\n",
    "\n",
    "# Print r value\n",
    "print(f\"The r-squared is: {rvalue}\")\n",
    "\n",
    "# Show plot\n",
    "plt.show()\n"
   ]
  },
  {
   "cell_type": "markdown",
   "metadata": {},
   "source": [
    "####  Southern Hemisphere - Max Temp vs. Latitude Linear Regression"
   ]
  },
  {
   "cell_type": "code",
   "execution_count": 33,
   "metadata": {},
   "outputs": [
    {
     "name": "stdout",
     "output_type": "stream",
     "text": [
      "y = 0.34x + 302.06\n",
      "The r-squared is: 0.7522896363441476\n"
     ]
    },
    {
     "data": {
      "image/png": "[encoded data removed]",
      "text/plain": [
       "<Figure size 432x288 with 1 Axes>"
      ]
     },
     "metadata": {
      "needs_background": "light"
     },
     "output_type": "display_data"
    }
   ],
   "source": [
    "x_values = pd.to_numeric(southern_hemisphere['Lat']).astype(float)\n",
    "y_values = pd.to_numeric(southern_hemisphere['Max Temp']).astype(float)\n",
    "(slope, intercept, rvalue, pvalue, stderr) = linregress(x_values, y_values)\n",
    "regress_values = x_values * slope + intercept\n",
    "\n",
    "# Create line equation string\n",
    "line_eq = \"y = \" + str(round(slope,2)) + \"x + \" + str(round(intercept,2))\n",
    "print(f\"{line_eq}\")\n",
    "\n",
    "# Create Plot\n",
    "plt.scatter(x_values,y_values)\n",
    "plt.plot(x_values,regress_values,\"r-\")\n",
    "\n",
    "# Label plot and annotate the line equation\n",
    "plt.xlabel('Latitude')\n",
    "plt.ylabel('Max Temp')\n",
    "plt.annotate(line_eq,(-48,278),fontsize=14,color=\"red\")\n",
    "\n",
    "# Print r value\n",
    "print(f\"The r-squared is: {rvalue}\")\n",
    "\n",
    "# Show plot\n",
    "plt.show()"
   ]
  },
  {
   "cell_type": "markdown",
   "metadata": {},
   "source": [
    "####  Northern Hemisphere - Humidity (%) vs. Latitude Linear Regression"
   ]
  },
  {
   "cell_type": "code",
   "execution_count": 36,
   "metadata": {},
   "outputs": [
    {
     "name": "stdout",
     "output_type": "stream",
     "text": [
      "y = 0.29x + 57.55\n",
      "The r-squared is: 0.25657663436999073\n"
     ]
    },
    {
     "data": {
      "image/png": "[encoded data removed]",
      "text/plain": [
       "<Figure size 432x288 with 1 Axes>"
      ]
     },
     "metadata": {
      "needs_background": "light"
     },
     "output_type": "display_data"
    }
   ],
   "source": [
    "x_values = pd.to_numeric(northern_hemisphere['Lat']).astype(float)\n",
    "y_values = pd.to_numeric(northern_hemisphere['Humidity']).astype(float)\n",
    "(slope, intercept, rvalue, pvalue, stderr) = linregress(x_values, y_values)\n",
    "regress_values = x_values * slope + intercept\n",
    "\n",
    "# Create line equation string\n",
    "line_eq = \"y = \" + str(round(slope,2)) + \"x + \" + str(round(intercept,2))\n",
    "print(f\"{line_eq}\")\n",
    "\n",
    "# Create Plot\n",
    "plt.scatter(x_values,y_values)\n",
    "plt.plot(x_values,regress_values,\"r-\")\n",
    "\n",
    "# Label plot and annotate the line equation\n",
    "plt.xlabel('Latitude')\n",
    "plt.ylabel('Humidity')\n",
    "plt.annotate(line_eq,(40,10),fontsize=14,color=\"red\")\n",
    "\n",
    "# Print r value\n",
    "print(f\"The r-squared is: {rvalue}\")\n",
    "\n",
    "# Show plot\n",
    "plt.show()"
   ]
  },
  {
   "cell_type": "markdown",
   "metadata": {},
   "source": [
    "####  Southern Hemisphere - Humidity (%) vs. Latitude Linear Regression"
   ]
  },
  {
   "cell_type": "code",
   "execution_count": 20,
   "metadata": {},
   "outputs": [
    {
     "name": "stdout",
     "output_type": "stream",
     "text": [
      "y = 0.18x + 77.61\n",
      "The r-squared is: 0.13909549675674324\n"
     ]
    },
    {
     "data": {
      "image/png": "[encoded data removed]",
      "text/plain": [
       "<Figure size 432x288 with 1 Axes>"
      ]
     },
     "metadata": {
      "needs_background": "light"
     },
     "output_type": "display_data"
    }
   ],
   "source": [
    "x_values = pd.to_numeric(southern_hemisphere['Lat']).astype(float)\n",
    "y_values = pd.to_numeric(southern_hemisphere['Humidity']).astype(float)\n",
    "(slope, intercept, rvalue, pvalue, stderr) = linregress(x_values, y_values)\n",
    "regress_values = x_values * slope + intercept\n",
    "\n",
    "# Create line equation string\n",
    "line_eq = \"y = \" + str(round(slope,2)) + \"x + \" + str(round(intercept,2))\n",
    "print(f\"{line_eq}\")\n",
    "\n",
    "# Create Plot\n",
    "plt.scatter(x_values,y_values)\n",
    "plt.plot(x_values,regress_values,\"r-\")\n",
    "\n",
    "# Label plot and annotate the line equation\n",
    "plt.xlabel('Latitude')\n",
    "plt.ylabel('Humidity')\n",
    "plt.annotate(line_eq,(8,10),fontsize=14,color=\"red\")\n",
    "\n",
    "# Print r value\n",
    "print(f\"The r-squared is: {rvalue}\")\n",
    "\n",
    "# Show plot\n",
    "plt.show()"
   ]
  },
  {
   "cell_type": "markdown",
   "metadata": {},
   "source": [
    "####  Northern Hemisphere - Cloudiness (%) vs. Latitude Linear Regression"
   ]
  },
  {
   "cell_type": "code",
   "execution_count": 21,
   "metadata": {},
   "outputs": [
    {
     "name": "stdout",
     "output_type": "stream",
     "text": [
      "y = 0.44x + 42.53\n",
      "The r-squared is: 0.23008152177145158\n"
     ]
    },
    {
     "data": {
      "image/png": "[encoded data removed]",
      "text/plain": [
       "<Figure size 432x288 with 1 Axes>"
      ]
     },
     "metadata": {
      "needs_background": "light"
     },
     "output_type": "display_data"
    }
   ],
   "source": [
    "x_values = pd.to_numeric(northern_hemisphere['Lat']).astype(float)\n",
    "y_values = pd.to_numeric(northern_hemisphere['Cloudiness']).astype(float)\n",
    "(slope, intercept, rvalue, pvalue, stderr) = linregress(x_values, y_values)\n",
    "regress_values = x_values * slope + intercept\n",
    "\n",
    "# Create line equation string\n",
    "line_eq = \"y = \" + str(round(slope,2)) + \"x + \" + str(round(intercept,2))\n",
    "print(f\"{line_eq}\")\n",
    "\n",
    "# Create Plot\n",
    "plt.scatter(x_values,y_values)\n",
    "plt.plot(x_values,regress_values,\"r-\")\n",
    "\n",
    "# Label plot and annotate the line equation\n",
    "plt.xlabel('Latitude')\n",
    "plt.ylabel('Cloudiness')\n",
    "plt.annotate(line_eq,(8,10),fontsize=14,color=\"red\")\n",
    "\n",
    "# Print r value\n",
    "print(f\"The r-squared is: {rvalue}\")\n",
    "\n",
    "# Show plot\n",
    "plt.show()"
   ]
  },
  {
   "cell_type": "markdown",
   "metadata": {},
   "source": [
    "####  Southern Hemisphere - Cloudiness (%) vs. Latitude Linear Regression"
   ]
  },
  {
   "cell_type": "code",
   "execution_count": 22,
   "metadata": {},
   "outputs": [
    {
     "name": "stdout",
     "output_type": "stream",
     "text": [
      "y = 0.39x + 68.66\n",
      "The r-squared is: 0.1354264585185907\n"
     ]
    },
    {
     "data": {
      "image/png": "[encoded data removed]",
      "text/plain": [
       "<Figure size 432x288 with 1 Axes>"
      ]
     },
     "metadata": {
      "needs_background": "light"
     },
     "output_type": "display_data"
    }
   ],
   "source": [
    "x_values = pd.to_numeric(southern_hemisphere['Lat']).astype(float)\n",
    "y_values = pd.to_numeric(southern_hemisphere['Cloudiness']).astype(float)\n",
    "(slope, intercept, rvalue, pvalue, stderr) = linregress(x_values, y_values)\n",
    "regress_values = x_values * slope + intercept\n",
    "\n",
    "# Create line equation string\n",
    "line_eq = \"y = \" + str(round(slope,2)) + \"x + \" + str(round(intercept,2))\n",
    "print(f\"{line_eq}\")\n",
    "\n",
    "# Create Plot\n",
    "plt.scatter(x_values,y_values)\n",
    "plt.plot(x_values,regress_values,\"r-\")\n",
    "\n",
    "# Label plot and annotate the line equation\n",
    "plt.xlabel('Latitude')\n",
    "plt.ylabel('Cloudiness')\n",
    "plt.annotate(line_eq,(8,10),fontsize=14,color=\"red\")\n",
    "\n",
    "# Print r value\n",
    "print(f\"The r-squared is: {rvalue}\")\n",
    "\n",
    "# Show plot\n",
    "plt.show()"
   ]
  },
  {
   "cell_type": "markdown",
   "metadata": {},
   "source": [
    "####  Northern Hemisphere - Wind Speed (mph) vs. Latitude Linear Regression"
   ]
  },
  {
   "cell_type": "code",
   "execution_count": 23,
   "metadata": {},
   "outputs": [
    {
     "name": "stdout",
     "output_type": "stream",
     "text": [
      "y = 0.01x + 3.31\n",
      "The r-squared is: 0.060779261967348536\n"
     ]
    },
    {
     "data": {
      "image/png": "[encoded data removed]",
      "text/plain": [
       "<Figure size 432x288 with 1 Axes>"
      ]
     },
     "metadata": {
      "needs_background": "light"
     },
     "output_type": "display_data"
    }
   ],
   "source": [
    "x_values = pd.to_numeric(northern_hemisphere['Lat']).astype(float)\n",
    "y_values = pd.to_numeric(northern_hemisphere['Wind Speed']).astype(float)\n",
    "(slope, intercept, rvalue, pvalue, stderr) = linregress(x_values, y_values)\n",
    "regress_values = x_values * slope + intercept\n",
    "\n",
    "# Create line equation string\n",
    "line_eq = \"y = \" + str(round(slope,2)) + \"x + \" + str(round(intercept,2))\n",
    "print(f\"{line_eq}\")\n",
    "\n",
    "# Create Plot\n",
    "plt.scatter(x_values,y_values)\n",
    "plt.plot(x_values,regress_values,\"r-\")\n",
    "\n",
    "# Label plot and annotate the line equation\n",
    "plt.xlabel('Latitude')\n",
    "plt.ylabel('Wind Speed')\n",
    "plt.annotate(line_eq,(8,10),fontsize=14,color=\"red\")\n",
    "\n",
    "# Print r value\n",
    "print(f\"The r-squared is: {rvalue}\")\n",
    "\n",
    "# Show plot\n",
    "plt.show()"
   ]
  },
  {
   "cell_type": "markdown",
   "metadata": {},
   "source": [
    "####  Southern Hemisphere - Wind Speed (mph) vs. Latitude Linear Regression"
   ]
  },
  {
   "cell_type": "code",
   "execution_count": 24,
   "metadata": {},
   "outputs": [
    {
     "name": "stdout",
     "output_type": "stream",
     "text": [
      "y = -0.06x + 2.39\n",
      "The r-squared is: -0.3366735176590918\n"
     ]
    },
    {
     "data": {
      "image/png": "[encoded data removed]",
      "text/plain": [
       "<Figure size 432x288 with 1 Axes>"
      ]
     },
     "metadata": {
      "needs_background": "light"
     },
     "output_type": "display_data"
    }
   ],
   "source": [
    "x_values = pd.to_numeric(southern_hemisphere['Lat']).astype(float)\n",
    "y_values = pd.to_numeric(southern_hemisphere['Wind Speed']).astype(float)\n",
    "(slope, intercept, rvalue, pvalue, stderr) = linregress(x_values, y_values)\n",
    "regress_values = x_values * slope + intercept\n",
    "\n",
    "# Create line equation string\n",
    "line_eq = \"y = \" + str(round(slope,2)) + \"x + \" + str(round(intercept,2))\n",
    "print(f\"{line_eq}\")\n",
    "\n",
    "# Create Plot\n",
    "plt.scatter(x_values,y_values)\n",
    "plt.plot(x_values,regress_values,\"r-\")\n",
    "\n",
    "# Label plot and annotate the line equation\n",
    "plt.xlabel('Latitude')\n",
    "plt.ylabel('Wind Speed')\n",
    "plt.annotate(line_eq,(8,10),fontsize=14,color=\"red\")\n",
    "\n",
    "# Print r value\n",
    "print(f\"The r-squared is: {rvalue}\")\n",
    "\n",
    "# Show plot\n",
    "plt.show()"
   ]
  },
  {
   "cell_type": "code",
   "execution_count": 25,
   "metadata": {},
   "outputs": [],
   "source": []
  },
  {
   "cell_type": "code",
   "execution_count": null,
   "metadata": {},
   "outputs": [],
   "source": []
  }
 ],
 "metadata": {
  "anaconda-cloud": {},
  "kernel_info": {
   "name": "python3"
  },
  "kernelspec": {
   "display_name": "Python 3 (ipykernel)",
   "language": "python",
   "name": "python3"
  },
  "language_info": {
   "codemirror_mode": {
    "name": "ipython",
    "version": 3
   },
   "file_extension": ".py",
   "mimetype": "text/x-python",
   "name": "python",
   "nbconvert_exporter": "python",
   "pygments_lexer": "ipython3",
   "version": "3.9.7"
  },
  "latex_envs": {
   "LaTeX_envs_menu_present": true,
   "autoclose": false,
   "autocomplete": true,
   "bibliofile": "biblio.bib",
   "cite_by": "apalike",
   "current_citInitial": 1,
   "eqLabelWithNumbers": true,
   "eqNumInitial": 1,
   "hotkeys": {
    "equation": "Ctrl-E",
    "itemize": "Ctrl-I"
   },
   "labels_anchors": false,
   "latex_user_defs": false,
   "report_style_numbering": false,
   "user_envs_cfg": false
  },
  "nteract": {
   "version": "0.12.3"
  }
 },
 "nbformat": 4,
 "nbformat_minor": 2
}
